{
  "nbformat": 4,
  "nbformat_minor": 0,
  "metadata": {
    "colab": {
      "name": "Food Reviews Classification",
      "provenance": [],
      "collapsed_sections": [],
      "include_colab_link": true
    },
    "kernelspec": {
      "name": "python3",
      "display_name": "Python 3"
    }
  },
  "cells": [
    {
      "cell_type": "markdown",
      "metadata": {
        "id": "view-in-github",
        "colab_type": "text"
      },
      "source": [
        "<a href=\"https://colab.research.google.com/github/kunamneni117/kagglecomp/blob/master/Food_Reviews_Classification.ipynb\" target=\"_parent\"><img src=\"https://colab.research.google.com/assets/colab-badge.svg\" alt=\"Open In Colab\"/></a>"
      ]
    },
    {
      "cell_type": "code",
      "metadata": {
        "id": "8mqQnP4OWDOK",
        "colab_type": "code",
        "colab": {}
      },
      "source": [
        "import warnings\n",
        "warnings.filterwarnings('ignore')\n",
        "\n",
        "from tqdm import tqdm\n",
        "import sqlite3\n",
        "import seaborn as sns\n",
        "import matplotlib.pyplot as plt\n",
        "import numpy as np \n",
        "import pandas as pd\n",
        "import nltk\n",
        "import re\n",
        "from bs4 import BeautifulSoup\n",
        "from nltk.corpus import stopwords\n",
        "from nltk.stem import SnowballStemmer,PorterStemmer"
      ],
      "execution_count": 0,
      "outputs": []
    },
    {
      "cell_type": "code",
      "metadata": {
        "id": "REcmtrOvWkDn",
        "colab_type": "code",
        "colab": {
          "base_uri": "https://localhost:8080/",
          "height": 139
        },
        "outputId": "8185d322-6281-4b20-f0a7-1cfb1e23babd"
      },
      "source": [
        "from google.colab import drive\n",
        "drive.mount('/gdrive')\n",
        "%cd /gdrive"
      ],
      "execution_count": 1,
      "outputs": [
        {
          "output_type": "stream",
          "text": [
            "Go to this URL in a browser: https://accounts.google.com/o/oauth2/auth?client_id=947318989803-6bn6qk8qdgf4n4g3pfee6491hc0brc4i.apps.googleusercontent.com&redirect_uri=urn%3aietf%3awg%3aoauth%3a2.0%3aoob&response_type=code&scope=email%20https%3a%2f%2fwww.googleapis.com%2fauth%2fdocs.test%20https%3a%2f%2fwww.googleapis.com%2fauth%2fdrive%20https%3a%2f%2fwww.googleapis.com%2fauth%2fdrive.photos.readonly%20https%3a%2f%2fwww.googleapis.com%2fauth%2fpeopleapi.readonly\n",
            "\n",
            "Enter your authorization code:\n",
            "··········\n",
            "Mounted at /gdrive\n",
            "/gdrive\n"
          ],
          "name": "stdout"
        }
      ]
    },
    {
      "cell_type": "code",
      "metadata": {
        "id": "DufjwNYOWsJv",
        "colab_type": "code",
        "colab": {
          "base_uri": "https://localhost:8080/",
          "height": 34
        },
        "outputId": "e419d539-d6de-4286-858e-6cc26c55c5ff"
      },
      "source": [
        "%ls '/gdrive/My Drive/Machine Learning/Amazon Reviews'"
      ],
      "execution_count": 6,
      "outputs": [
        {
          "output_type": "stream",
          "text": [
            "database.sqlite\n"
          ],
          "name": "stdout"
        }
      ]
    },
    {
      "cell_type": "code",
      "metadata": {
        "id": "ISIAnwmYW6wb",
        "colab_type": "code",
        "colab": {}
      },
      "source": [
        "connection = sqlite3.connect('/gdrive/My Drive/Machine Learning/Amazon Reviews/database.sqlite')\n",
        "Amazon_Food_Reviews = pd.read_sql_query(\"\"\" SELECT * FROM Reviews WHERE Score != 3\"\"\", connection) \n",
        "\n",
        "Amazon_Food_Reviews['Score'] = Amazon_Food_Reviews['Score'].apply(lambda x: 1 if x>3 else 0)"
      ],
      "execution_count": 0,
      "outputs": []
    },
    {
      "cell_type": "code",
      "metadata": {
        "id": "DG4dRD2EXd1q",
        "colab_type": "code",
        "colab": {}
      },
      "source": [
        "#Sorting data according to ProductId in ascending order\n",
        "Amazon_Food_Reviews_Sorted_Data=Amazon_Food_Reviews.sort_values('ProductId', axis=0, ascending=True, inplace=False, kind='quicksort', na_position='last')"
      ],
      "execution_count": 0,
      "outputs": []
    },
    {
      "cell_type": "code",
      "metadata": {
        "id": "1gZioHGbXpux",
        "colab_type": "code",
        "colab": {
          "base_uri": "https://localhost:8080/",
          "height": 34
        },
        "outputId": "d32fc32e-eee7-4f34-c6a8-f7f8b40a771c"
      },
      "source": [
        "#Deduplication of entries\n",
        "Amazon_Food_Reviews_Duplicates_Filtered=Amazon_Food_Reviews_Sorted_Data.drop_duplicates(subset={\"UserId\",\"ProfileName\",\"Time\",\"Text\"}, keep='first', inplace=False)\n",
        "print(\"{} % of Data Retained in 100%\".format((Amazon_Food_Reviews_Duplicates_Filtered.shape[0]/Amazon_Food_Reviews_Sorted_Data.shape[0])*100))"
      ],
      "execution_count": 12,
      "outputs": [
        {
          "output_type": "stream",
          "text": [
            "69.25890143662969 % of Data Retained in 100%\n"
          ],
          "name": "stdout"
        }
      ]
    },
    {
      "cell_type": "code",
      "metadata": {
        "id": "UEKrQUk8XsXb",
        "colab_type": "code",
        "colab": {
          "base_uri": "https://localhost:8080/",
          "height": 34
        },
        "outputId": "bc879e40-a226-4e0c-dc8b-717e65d15494"
      },
      "source": [
        "Amazon_Food_Reviews_Preprocessed=Amazon_Food_Reviews_Duplicates_Filtered[Amazon_Food_Reviews_Duplicates_Filtered.HelpfulnessNumerator<=Amazon_Food_Reviews_Duplicates_Filtered.HelpfulnessDenominator]\n",
        "print(\"{} % of Data Retained in 100%\".format((Amazon_Food_Reviews_Preprocessed.shape[0]/Amazon_Food_Reviews_Duplicates_Filtered.shape[0])*100))"
      ],
      "execution_count": 13,
      "outputs": [
        {
          "output_type": "stream",
          "text": [
            "99.99945081046646 % of Data Retained in 100%\n"
          ],
          "name": "stdout"
        }
      ]
    },
    {
      "cell_type": "code",
      "metadata": {
        "id": "Tr_N9efoXuEm",
        "colab_type": "code",
        "colab": {}
      },
      "source": [
        "from sklearn.model_selection import train_test_split\n",
        "Amazon_Food_Reviews_Preprocessed_Filtered_columns=Amazon_Food_Reviews_Preprocessed[['Text','Score']].head(10000)\n",
        "Train_Data,Test_Data= train_test_split(Amazon_Food_Reviews_Preprocessed_Filtered_columns,test_size=0.25,random_state=42)"
      ],
      "execution_count": 0,
      "outputs": []
    },
    {
      "cell_type": "code",
      "metadata": {
        "id": "-Zse41d3ctUr",
        "colab_type": "code",
        "colab": {
          "base_uri": "https://localhost:8080/",
          "height": 34
        },
        "outputId": "8dc7687f-7d69-440f-e443-8ede6d6f6edc"
      },
      "source": [
        "print('{}% of Class 1 present in the 100% Data'.format((Train_Data[Train_Data.iloc[:,1]==1].shape[0]/Train_Data.shape[0])*100))"
      ],
      "execution_count": 33,
      "outputs": [
        {
          "output_type": "stream",
          "text": [
            "83.81333333333333% of Class 1 present in the 100% Data\n"
          ],
          "name": "stdout"
        }
      ]
    },
    {
      "cell_type": "code",
      "metadata": {
        "id": "wbBoKO9dXv5i",
        "colab_type": "code",
        "colab": {
          "base_uri": "https://localhost:8080/",
          "height": 51
        },
        "outputId": "0b56b270-b74f-4851-fa6d-49113167e139"
      },
      "source": [
        "def Decontracted(Phrase):\n",
        "    Phrase=re.sub(r\"won\\'t\",\"will not\",Phrase)\n",
        "    Phrase=re.sub(r\"can\\'t\",\"can not\",Phrase)\n",
        "    Phrase=re.sub(r\"\\'re\",\"are\",Phrase)\n",
        "    Phrase=re.sub(r\"\\'m\",\"am\",Phrase)\n",
        "    Phrase=re.sub(r\"\\'t\",\"not\",Phrase)\n",
        "    Phrase=re.sub(r\"\\'ll\",\"will\",Phrase)\n",
        "    Phrase=re.sub(r\"\\'d\",\"would\",Phrase)\n",
        "    Phrase=re.sub(r\"\\'s\",\"is\",Phrase)\n",
        "    Phrase=re.sub(r\"\\'ve\",\"have\",Phrase)\n",
        "    return Phrase\n",
        "nltk.download('stopwords')\n",
        "Stopwords = [word for word in stopwords.words('english') if word not in ['not','no']]\n",
        "\n",
        "def Preprocessing_Texts(documents):\n",
        "    Preprocessed=[]\n",
        "    for sentence in tqdm(documents):\n",
        "        sentence=re.sub(r\"http\\S+\",\"\",sentence)\n",
        "        sentence= BeautifulSoup(sentence,'lxml').get_text()\n",
        "        sentence=Decontracted(sentence)\n",
        "        sentence= re.sub(\"\\S*\\d\\S*\",\"\",sentence).strip()\n",
        "        sentence= re.sub('[^a-zA-Z]+',\" \",sentence)\n",
        "        sentence=' '.join(word.lower() for word in sentence.split() if word.lower() not in Stopwords)\n",
        "        Preprocessed.append(sentence)\n",
        "    return Preprocessed"
      ],
      "execution_count": 18,
      "outputs": [
        {
          "output_type": "stream",
          "text": [
            "[nltk_data] Downloading package stopwords to /root/nltk_data...\n",
            "[nltk_data]   Unzipping corpora/stopwords.zip.\n"
          ],
          "name": "stdout"
        }
      ]
    },
    {
      "cell_type": "code",
      "metadata": {
        "id": "GPlmJ2oeXxsV",
        "colab_type": "code",
        "colab": {
          "base_uri": "https://localhost:8080/",
          "height": 34
        },
        "outputId": "fe7079fc-e02a-4f63-b385-06b91b9f240a"
      },
      "source": [
        "Train_Data_Preprocessed_Text=Preprocessing_Texts(Train_Data['Text'].values)\n",
        "Test_Data_Preprocessed_Text=Preprocessing_Texts(Test_Data['Text'].values)"
      ],
      "execution_count": 56,
      "outputs": [
        {
          "output_type": "stream",
          "text": [
            "100%|██████████| 2500/2500 [00:01<00:00, 1920.45it/s]\n"
          ],
          "name": "stderr"
        }
      ]
    },
    {
      "cell_type": "code",
      "metadata": {
        "id": "LzwGPqCEYUT6",
        "colab_type": "code",
        "colab": {
          "base_uri": "https://localhost:8080/",
          "height": 102
        },
        "outputId": "88e66379-09b3-44fd-d7da-d0ce64e744ca"
      },
      "source": [
        "#BOW\n",
        "from sklearn.feature_extraction.text import CountVectorizer\n",
        "count_vect = CountVectorizer() \n",
        "count_vect.fit(Train_Data_Preprocessed_Text)\n",
        "print(\"some feature names \", count_vect.get_feature_names()[:10])\n",
        "print('='*50)\n",
        "\n",
        "Preprocessed_Text_Count_Vector = count_vect.transform(Train_Data_Preprocessed_Text)\n",
        "print(\"the type of count vectorizer \",type(Preprocessed_Text_Count_Vector))\n",
        "print(\"the shape of out text BOW vectorizer \",Preprocessed_Text_Count_Vector.get_shape())\n",
        "print(\"the number of unique words \", Preprocessed_Text_Count_Vector.get_shape()[1])"
      ],
      "execution_count": 20,
      "outputs": [
        {
          "output_type": "stream",
          "text": [
            "some feature names  ['aa', 'aaaaa', 'aaaaaahhhhhyaaaaaa', 'aaaallll', 'aaah', 'aaahhhhhh', 'aahing', 'abandon', 'abandoned', 'abbey']\n",
            "==================================================\n",
            "the type of count vectorizer  <class 'scipy.sparse.csr.csr_matrix'>\n",
            "the shape of out text BOW vectorizer  (7500, 20001)\n",
            "the number of unique words  20001\n"
          ],
          "name": "stdout"
        }
      ]
    },
    {
      "cell_type": "code",
      "metadata": {
        "id": "MmNRzxcRm-vp",
        "colab_type": "code",
        "colab": {}
      },
      "source": [
        "Test_Preprocessed_Text_Count_Vector=count_vect.transform(Test_Data_Preprocessed_Text)"
      ],
      "execution_count": 0,
      "outputs": []
    },
    {
      "cell_type": "code",
      "metadata": {
        "id": "RNrgyBA6YW30",
        "colab_type": "code",
        "colab": {
          "base_uri": "https://localhost:8080/",
          "height": 51
        },
        "outputId": "3b89a4b6-7fa7-41ec-ecdb-9e7de55b9aa6"
      },
      "source": [
        "#BOW NGRAM\n",
        "count_vect_ngram = CountVectorizer(ngram_range=(1,2),min_df=10) \n",
        "Preprocessed_Text_Count_Vector_ngram=count_vect_ngram.fit_transform(Train_Data_Preprocessed_Text)\n",
        "print(\"the shape of out text BOW vectorizer NGRAM\",Preprocessed_Text_Count_Vector_ngram.get_shape())\n",
        "print(\"the number of unique words \", Preprocessed_Text_Count_Vector_ngram.get_shape()[1])"
      ],
      "execution_count": 21,
      "outputs": [
        {
          "output_type": "stream",
          "text": [
            "the shape of out text BOW vectorizer NGRAM (7500, 4972)\n",
            "the number of unique words  4972\n"
          ],
          "name": "stdout"
        }
      ]
    },
    {
      "cell_type": "code",
      "metadata": {
        "id": "SGm1et9MnrGE",
        "colab_type": "code",
        "colab": {}
      },
      "source": [
        "Test_Preprocessed_Text_Count_Vector_ngram=count_vect_ngram.transform(Test_Data_Preprocessed_Text)"
      ],
      "execution_count": 0,
      "outputs": []
    },
    {
      "cell_type": "code",
      "metadata": {
        "id": "CHFeWS7jYpiK",
        "colab_type": "code",
        "colab": {
          "base_uri": "https://localhost:8080/",
          "height": 122
        },
        "outputId": "9424bcc5-eb32-4eea-cae0-1baf2d4f3a66"
      },
      "source": [
        "from sklearn.feature_extraction.text import TfidfVectorizer\n",
        "tf_idf_vect = TfidfVectorizer(ngram_range=(1,2), min_df=10)\n",
        "tf_idf_vect.fit(Train_Data_Preprocessed_Text)\n",
        "print(\"some sample features(unique words in the corpus)\",tf_idf_vect.get_feature_names()[0:10])\n",
        "print('='*50)\n",
        "\n",
        "Preprocessed_Text_tf_idf_vect = tf_idf_vect.transform(Train_Data_Preprocessed_Text)\n",
        "print(\"the type of count vectorizer \",type(Preprocessed_Text_tf_idf_vect))\n",
        "print(\"the shape of out text TFIDF vectorizer \",Preprocessed_Text_tf_idf_vect.get_shape())\n",
        "print(\"the number of unique words including both unigrams and bigrams \", Preprocessed_Text_tf_idf_vect.get_shape()[1])"
      ],
      "execution_count": 22,
      "outputs": [
        {
          "output_type": "stream",
          "text": [
            "some sample features(unique words in the corpus) ['ability', 'able', 'able buy', 'able find', 'able get', 'absolute', 'absolute favorite', 'absolutely', 'absolutely delicious', 'absolutely love']\n",
            "==================================================\n",
            "the type of count vectorizer  <class 'scipy.sparse.csr.csr_matrix'>\n",
            "the shape of out text TFIDF vectorizer  (7500, 4972)\n",
            "the number of unique words including both unigrams and bigrams  4972\n"
          ],
          "name": "stdout"
        }
      ]
    },
    {
      "cell_type": "code",
      "metadata": {
        "id": "NDr5VV8enz2w",
        "colab_type": "code",
        "colab": {}
      },
      "source": [
        "Test_Preprocessed_Text_tf_idf_vect=tf_idf_vect.transform(Test_Data_Preprocessed_Text)"
      ],
      "execution_count": 0,
      "outputs": []
    },
    {
      "cell_type": "code",
      "metadata": {
        "id": "ETdXyG6LYsdK",
        "colab_type": "code",
        "colab": {}
      },
      "source": [
        "from gensim.models import Word2Vec\n",
        "i=0\n",
        "list_of_sentance=[]\n",
        "for sentance in Train_Data_Preprocessed_Text:\n",
        "    list_of_sentance.append(sentance.split())\n",
        "word2vec_model= Word2Vec(list_of_sentance,min_count=5,size=50, workers=7)"
      ],
      "execution_count": 0,
      "outputs": []
    },
    {
      "cell_type": "code",
      "metadata": {
        "id": "lgwrXv1EYv_w",
        "colab_type": "code",
        "colab": {
          "base_uri": "https://localhost:8080/",
          "height": 71
        },
        "outputId": "f980b887-e868-45e8-d341-585f537adac5"
      },
      "source": [
        "w2v_words = list(word2vec_model.wv.vocab)\n",
        "print(\"number of words that occured minimum 5 times \",len(w2v_words))\n",
        "print(\"sample words \", w2v_words[0:50])"
      ],
      "execution_count": 24,
      "outputs": [
        {
          "output_type": "stream",
          "text": [
            "number of words that occured minimum 5 times  5896\n",
            "sample words  ['purchased', 'product', 'shortly', 'diagnosed', 'type', 'ii', 'diabetes', 'agree', 'reviewers', 'concerning', 'taste', 'texture', 'syrup', 'itis', 'amazing', 'us', 'follow', 'diet', 'understanding', 'maltitol', 'used', 'gi', 'table', 'sugar', 'means', 'sharp', 'rise', 'blood', 'noted', 'consuming', 'even', 'normal', 'serving', 'size', 'first', 'time', 'upset', 'test', 'results', 'hours', 'eating', 'pancake', 'mix', 'second', 'result', 'no', 'french', 'toast', 'trying', 'use']\n"
          ],
          "name": "stdout"
        }
      ]
    },
    {
      "cell_type": "code",
      "metadata": {
        "id": "RQldm4g1pW1T",
        "colab_type": "code",
        "colab": {}
      },
      "source": [
        "Avg_Word2Vec_Vectors = []; # the avg-w2v for each sentence/review is stored in this list\n",
        "for sent in list_of_sentance: # for each review/sentence\n",
        "    sent_vec = np.zeros(50) # as word vectors are of zero length 50, you might need to change this to 300 if you use google's w2v\n",
        "    cnt_words =0; # num of words with a valid vector in the sentence/review\n",
        "    for word in sent: # for each word in a review/sentence\n",
        "        if word in w2v_words:\n",
        "            vec = word2vec_model.wv[word]\n",
        "            sent_vec += vec\n",
        "            cnt_words += 1\n",
        "    if cnt_words != 0:\n",
        "        sent_vec /= cnt_words\n",
        "    Avg_Word2Vec_Vectors.append(sent_vec)"
      ],
      "execution_count": 0,
      "outputs": []
    },
    {
      "cell_type": "code",
      "metadata": {
        "id": "1YdtVfAeY84C",
        "colab_type": "code",
        "colab": {}
      },
      "source": [
        "from sklearn.feature_extraction.text import TfidfVectorizer\n",
        "model = TfidfVectorizer()\n",
        "tf_idf_matrix = model.fit_transform(Train_Data_Preprocessed_Text)\n",
        "# we are converting a dictionary with word as a key, and the idf as a value\n",
        "dictionary = dict(zip(model.get_feature_names(), list(model.idf_)))"
      ],
      "execution_count": 0,
      "outputs": []
    },
    {
      "cell_type": "code",
      "metadata": {
        "id": "nIFyqatKY-ht",
        "colab_type": "code",
        "colab": {}
      },
      "source": [
        "# TF-IDF weighted Word2Vec\n",
        "tfidf_feat = model.get_feature_names() # tfidf words/col-names\n",
        "# final_tf_idf is the sparse matrix with row= sentence, col=word and cell_val = tfidf\n",
        "\n",
        "Tfidf_Word2Vec_Vectors = []; # the tfidf-w2v for each sentence/review is stored in this list\n",
        "row=0;\n",
        "for sent in list_of_sentance: # for each review/sentence \n",
        "    sent_vec = np.zeros(50) # as word vectors are of zero length\n",
        "    weight_sum =0; # num of words with a valid vector in the sentence/review\n",
        "    for word in sent: # for each word in a review/sentence\n",
        "        if word in w2v_words and word in tfidf_feat:\n",
        "            vec = word2vec_model.wv[word]\n",
        "#             tf_idf = tf_idf_matrix[row, tfidf_feat.index(word)]\n",
        "            # to reduce the computation we are \n",
        "            # dictionary[word] = idf value of word in whole courpus\n",
        "            # sent.count(word) = tf valeus of word in this review\n",
        "            tf_idf = dictionary[word]*(sent.count(word)/len(sent))\n",
        "            sent_vec += (vec * tf_idf)\n",
        "            weight_sum += tf_idf\n",
        "    if weight_sum != 0:\n",
        "        sent_vec /= weight_sum\n",
        "    Tfidf_Word2Vec_Vectors.append(sent_vec)\n",
        "    row += 1"
      ],
      "execution_count": 0,
      "outputs": []
    },
    {
      "cell_type": "code",
      "metadata": {
        "id": "YwE95wlHY__6",
        "colab_type": "code",
        "colab": {
          "base_uri": "https://localhost:8080/",
          "height": 51
        },
        "outputId": "75a394f2-1ddb-4b51-e9e0-653e0f719a5b"
      },
      "source": [
        "print(len(Tfidf_Word2Vec_Vectors))\n",
        "print(len(Tfidf_Word2Vec_Vectors[0]))"
      ],
      "execution_count": 29,
      "outputs": [
        {
          "output_type": "stream",
          "text": [
            "7500\n",
            "50\n"
          ],
          "name": "stdout"
        }
      ]
    },
    {
      "cell_type": "code",
      "metadata": {
        "id": "bQntpmYCZCR8",
        "colab_type": "code",
        "colab": {
          "base_uri": "https://localhost:8080/",
          "height": 187
        },
        "outputId": "8d1cf065-f85f-4ee0-a054-20c1515c63f2"
      },
      "source": [
        "from sklearn.neighbors import KNeighborsClassifier\n",
        "from sklearn.model_selection import GridSearchCV\n",
        "param_grid={'n_neighbors':[1,2,4,5,7,10]}\n",
        "knn=KNeighborsClassifier(n_jobs=-1,algorithm='brute')\n",
        "grid_search_cv_count_vector=GridSearchCV(knn,param_grid=param_grid,cv=10,scoring='precision')\n",
        "grid_search_cv_count_vector.fit(Preprocessed_Text_Count_Vector.toarray(),Train_Data['Score'].values.reshape(-1,1))"
      ],
      "execution_count": 30,
      "outputs": [
        {
          "output_type": "execute_result",
          "data": {
            "text/plain": [
              "GridSearchCV(cv=10, error_score='raise-deprecating',\n",
              "             estimator=KNeighborsClassifier(algorithm='brute', leaf_size=30,\n",
              "                                            metric='minkowski',\n",
              "                                            metric_params=None, n_jobs=-1,\n",
              "                                            n_neighbors=5, p=2,\n",
              "                                            weights='uniform'),\n",
              "             iid='warn', n_jobs=None,\n",
              "             param_grid={'n_neighbors': [1, 2, 4, 5, 7, 10]},\n",
              "             pre_dispatch='2*n_jobs', refit=True, return_train_score=False,\n",
              "             scoring='precision', verbose=0)"
            ]
          },
          "metadata": {
            "tags": []
          },
          "execution_count": 30
        }
      ]
    },
    {
      "cell_type": "code",
      "metadata": {
        "id": "3xGA_mCOZbZE",
        "colab_type": "code",
        "colab": {
          "base_uri": "https://localhost:8080/",
          "height": 187
        },
        "outputId": "5e68b30c-e2cc-4ef5-ccf0-7d76e9889ee2"
      },
      "source": [
        "from sklearn.neighbors import KNeighborsClassifier\n",
        "from sklearn.model_selection import GridSearchCV\n",
        "param_grid={'n_neighbors':[1,2,4,5,7,10]}\n",
        "knn=KNeighborsClassifier(n_jobs=-1,algorithm='brute')\n",
        "grid_search_cv_count_vector_ngram=GridSearchCV(knn,param_grid=param_grid,cv=10,scoring='precision')\n",
        "grid_search_cv_count_vector_ngram.fit(Preprocessed_Text_Count_Vector_ngram.toarray(),Train_Data['Score'].values.reshape(-1,1))"
      ],
      "execution_count": 36,
      "outputs": [
        {
          "output_type": "execute_result",
          "data": {
            "text/plain": [
              "GridSearchCV(cv=10, error_score='raise-deprecating',\n",
              "             estimator=KNeighborsClassifier(algorithm='brute', leaf_size=30,\n",
              "                                            metric='minkowski',\n",
              "                                            metric_params=None, n_jobs=-1,\n",
              "                                            n_neighbors=5, p=2,\n",
              "                                            weights='uniform'),\n",
              "             iid='warn', n_jobs=None,\n",
              "             param_grid={'n_neighbors': [1, 2, 4, 5, 7, 10]},\n",
              "             pre_dispatch='2*n_jobs', refit=True, return_train_score=False,\n",
              "             scoring='precision', verbose=0)"
            ]
          },
          "metadata": {
            "tags": []
          },
          "execution_count": 36
        }
      ]
    },
    {
      "cell_type": "code",
      "metadata": {
        "id": "Pr2mmC4feQFD",
        "colab_type": "code",
        "colab": {
          "base_uri": "https://localhost:8080/",
          "height": 187
        },
        "outputId": "1c60e1eb-9bdd-4fc0-c3bb-c9671c82da21"
      },
      "source": [
        "from sklearn.neighbors import KNeighborsClassifier\n",
        "from sklearn.model_selection import GridSearchCV\n",
        "param_grid={'n_neighbors':[1,2,4,5,7,10]}\n",
        "knn=KNeighborsClassifier(n_jobs=-1,algorithm='brute')\n",
        "grid_search_TFIDF=GridSearchCV(knn,param_grid=param_grid,cv=10,scoring='precision')\n",
        "grid_search_TFIDF.fit(Preprocessed_Text_tf_idf_vect.toarray(),Train_Data['Score'].values.reshape(-1,1))"
      ],
      "execution_count": 37,
      "outputs": [
        {
          "output_type": "execute_result",
          "data": {
            "text/plain": [
              "GridSearchCV(cv=10, error_score='raise-deprecating',\n",
              "             estimator=KNeighborsClassifier(algorithm='brute', leaf_size=30,\n",
              "                                            metric='minkowski',\n",
              "                                            metric_params=None, n_jobs=-1,\n",
              "                                            n_neighbors=5, p=2,\n",
              "                                            weights='uniform'),\n",
              "             iid='warn', n_jobs=None,\n",
              "             param_grid={'n_neighbors': [1, 2, 4, 5, 7, 10]},\n",
              "             pre_dispatch='2*n_jobs', refit=True, return_train_score=False,\n",
              "             scoring='precision', verbose=0)"
            ]
          },
          "metadata": {
            "tags": []
          },
          "execution_count": 37
        }
      ]
    },
    {
      "cell_type": "code",
      "metadata": {
        "id": "PES9ikx5ffef",
        "colab_type": "code",
        "colab": {
          "base_uri": "https://localhost:8080/",
          "height": 187
        },
        "outputId": "7b5756d8-cdac-4d9d-880a-672922350ac0"
      },
      "source": [
        "from sklearn.neighbors import KNeighborsClassifier\n",
        "from sklearn.model_selection import GridSearchCV\n",
        "param_grid={'n_neighbors':[1,2,4,5,7,10]}\n",
        "knn=KNeighborsClassifier(n_jobs=-1,algorithm='brute')\n",
        "grid_search_AVG_Word2Vec=GridSearchCV(knn,param_grid=param_grid,cv=10,scoring='precision')\n",
        "grid_search_AVG_Word2Vec.fit(Avg_Word2Vec_Vectors,Train_Data['Score'].values.reshape(-1,1))"
      ],
      "execution_count": 38,
      "outputs": [
        {
          "output_type": "execute_result",
          "data": {
            "text/plain": [
              "GridSearchCV(cv=10, error_score='raise-deprecating',\n",
              "             estimator=KNeighborsClassifier(algorithm='brute', leaf_size=30,\n",
              "                                            metric='minkowski',\n",
              "                                            metric_params=None, n_jobs=-1,\n",
              "                                            n_neighbors=5, p=2,\n",
              "                                            weights='uniform'),\n",
              "             iid='warn', n_jobs=None,\n",
              "             param_grid={'n_neighbors': [1, 2, 4, 5, 7, 10]},\n",
              "             pre_dispatch='2*n_jobs', refit=True, return_train_score=False,\n",
              "             scoring='precision', verbose=0)"
            ]
          },
          "metadata": {
            "tags": []
          },
          "execution_count": 38
        }
      ]
    },
    {
      "cell_type": "code",
      "metadata": {
        "id": "LfNmtzhjgchl",
        "colab_type": "code",
        "colab": {
          "base_uri": "https://localhost:8080/",
          "height": 187
        },
        "outputId": "3360794c-314d-490c-8595-93cb279a9537"
      },
      "source": [
        "from sklearn.neighbors import KNeighborsClassifier\n",
        "from sklearn.model_selection import GridSearchCV\n",
        "param_grid={'n_neighbors':[1,2,4,5,7,10]}\n",
        "knn=KNeighborsClassifier(n_jobs=-1,algorithm='brute')\n",
        "grid_search_TFIDF_Word2Vec=GridSearchCV(knn,param_grid=param_grid,cv=10,scoring='precision')\n",
        "grid_search_TFIDF_Word2Vec.fit(Tfidf_Word2Vec_Vectors,Train_Data['Score'].values.reshape(-1,1))"
      ],
      "execution_count": 39,
      "outputs": [
        {
          "output_type": "execute_result",
          "data": {
            "text/plain": [
              "GridSearchCV(cv=10, error_score='raise-deprecating',\n",
              "             estimator=KNeighborsClassifier(algorithm='brute', leaf_size=30,\n",
              "                                            metric='minkowski',\n",
              "                                            metric_params=None, n_jobs=-1,\n",
              "                                            n_neighbors=5, p=2,\n",
              "                                            weights='uniform'),\n",
              "             iid='warn', n_jobs=None,\n",
              "             param_grid={'n_neighbors': [1, 2, 4, 5, 7, 10]},\n",
              "             pre_dispatch='2*n_jobs', refit=True, return_train_score=False,\n",
              "             scoring='precision', verbose=0)"
            ]
          },
          "metadata": {
            "tags": []
          },
          "execution_count": 39
        }
      ]
    },
    {
      "cell_type": "code",
      "metadata": {
        "id": "m1U1EOzkgum_",
        "colab_type": "code",
        "colab": {
          "base_uri": "https://localhost:8080/",
          "height": 85
        },
        "outputId": "4041a98b-d1b3-430d-a7b9-32cf54bc8e50"
      },
      "source": [
        "#print(\"Best Score In Count Vectorization\",grid_search_cv_count_vector.best_score_)\n",
        "print(\"Best Score In Count Vectorization NGRAM\",grid_search_cv_count_vector_ngram.best_score_)\n",
        "print(\"Best Score In TFIDF Vectorization\",grid_search_TFIDF.best_score_)\n",
        "print(\"Best Score In Avg Word2Vec Vectorization\",grid_search_AVG_Word2Vec.best_score_)\n",
        "print(\"Best Score In TFIDF Word2Vec Vectorization\",grid_search_TFIDF_Word2Vec.best_score_)"
      ],
      "execution_count": 42,
      "outputs": [
        {
          "output_type": "stream",
          "text": [
            "Best Score In Count Vectorization NGRAM 0.8810120690649232\n",
            "Best Score In TFIDF Vectorization 0.9241504275811419\n",
            "Best Score In Avg Word2Vec Vectorization 0.8734231030646831\n",
            "Best Score In TFIDF Word2Vec Vectorization 0.8644947279476946\n"
          ],
          "name": "stdout"
        }
      ]
    },
    {
      "cell_type": "code",
      "metadata": {
        "id": "trT7lMerhyNF",
        "colab_type": "code",
        "colab": {
          "base_uri": "https://localhost:8080/",
          "height": 85
        },
        "outputId": "bd764865-000e-4177-d600-24ef75c6f8b4"
      },
      "source": [
        "print(\"Best Parameters In Count Vectorization NGRAM\",grid_search_cv_count_vector_ngram.best_params_)\n",
        "print(\"Best Parameters In TFIDF Vectorization\",grid_search_TFIDF.best_params_)\n",
        "print(\"Best Parameters In Avg Word2Vec Vectorization\",grid_search_AVG_Word2Vec.best_params_)\n",
        "print(\"Best Parameters In TFIDF Word2Vec Vectorization\",grid_search_TFIDF_Word2Vec.best_params_)"
      ],
      "execution_count": 45,
      "outputs": [
        {
          "output_type": "stream",
          "text": [
            "Best Parameters In Count Vectorization NGRAM {'n_neighbors': 2}\n",
            "Best Parameters In TFIDF Vectorization {'n_neighbors': 2}\n",
            "Best Parameters In Avg Word2Vec Vectorization {'n_neighbors': 2}\n",
            "Best Parameters In TFIDF Word2Vec Vectorization {'n_neighbors': 2}\n"
          ],
          "name": "stdout"
        }
      ]
    },
    {
      "cell_type": "code",
      "metadata": {
        "id": "q0l2zXfbh0gg",
        "colab_type": "code",
        "colab": {
          "base_uri": "https://localhost:8080/",
          "height": 187
        },
        "outputId": "c6f20b58-67b4-4373-ffd1-f893abdca2e3"
      },
      "source": [
        "from sklearn.neighbors import KNeighborsClassifier\n",
        "from sklearn.model_selection import GridSearchCV\n",
        "param_grid={'n_neighbors':[1,2,4,5,7,10]}\n",
        "knn=KNeighborsClassifier(n_jobs=-1,algorithm='brute')\n",
        "grid_search_cv_count_vector=GridSearchCV(knn,param_grid=param_grid,cv=10,scoring='f1')\n",
        "grid_search_cv_count_vector.fit(Preprocessed_Text_Count_Vector.toarray(),Train_Data['Score'].values.reshape(-1,1))"
      ],
      "execution_count": 47,
      "outputs": [
        {
          "output_type": "execute_result",
          "data": {
            "text/plain": [
              "GridSearchCV(cv=10, error_score='raise-deprecating',\n",
              "             estimator=KNeighborsClassifier(algorithm='brute', leaf_size=30,\n",
              "                                            metric='minkowski',\n",
              "                                            metric_params=None, n_jobs=-1,\n",
              "                                            n_neighbors=5, p=2,\n",
              "                                            weights='uniform'),\n",
              "             iid='warn', n_jobs=None,\n",
              "             param_grid={'n_neighbors': [1, 2, 4, 5, 7, 10]},\n",
              "             pre_dispatch='2*n_jobs', refit=True, return_train_score=False,\n",
              "             scoring='f1', verbose=0)"
            ]
          },
          "metadata": {
            "tags": []
          },
          "execution_count": 47
        }
      ]
    },
    {
      "cell_type": "code",
      "metadata": {
        "id": "PnLQQUaUi-7s",
        "colab_type": "code",
        "colab": {
          "base_uri": "https://localhost:8080/",
          "height": 187
        },
        "outputId": "47b4ff0c-5618-423a-8ded-f7681f235539"
      },
      "source": [
        "from sklearn.neighbors import KNeighborsClassifier\n",
        "from sklearn.model_selection import GridSearchCV\n",
        "param_grid={'n_neighbors':[1,2,4,5,7,10]}\n",
        "knn=KNeighborsClassifier(n_jobs=-1,algorithm='brute')\n",
        "grid_search_cv_count_vector_ngram=GridSearchCV(knn,param_grid=param_grid,cv=10,scoring='f1')\n",
        "grid_search_cv_count_vector_ngram.fit(Preprocessed_Text_Count_Vector_ngram.toarray(),Train_Data['Score'].values.reshape(-1,1))"
      ],
      "execution_count": 49,
      "outputs": [
        {
          "output_type": "execute_result",
          "data": {
            "text/plain": [
              "GridSearchCV(cv=10, error_score='raise-deprecating',\n",
              "             estimator=KNeighborsClassifier(algorithm='brute', leaf_size=30,\n",
              "                                            metric='minkowski',\n",
              "                                            metric_params=None, n_jobs=-1,\n",
              "                                            n_neighbors=5, p=2,\n",
              "                                            weights='uniform'),\n",
              "             iid='warn', n_jobs=None,\n",
              "             param_grid={'n_neighbors': [1, 2, 4, 5, 7, 10]},\n",
              "             pre_dispatch='2*n_jobs', refit=True, return_train_score=False,\n",
              "             scoring='f1', verbose=0)"
            ]
          },
          "metadata": {
            "tags": []
          },
          "execution_count": 49
        }
      ]
    },
    {
      "cell_type": "code",
      "metadata": {
        "id": "XLikGYTmjBKt",
        "colab_type": "code",
        "colab": {
          "base_uri": "https://localhost:8080/",
          "height": 187
        },
        "outputId": "3a8e4a45-61fc-48dc-bff6-7d3b20472dbc"
      },
      "source": [
        "from sklearn.neighbors import KNeighborsClassifier\n",
        "from sklearn.model_selection import GridSearchCV\n",
        "param_grid={'n_neighbors':[1,2,4,5,7,10]}\n",
        "knn=KNeighborsClassifier(n_jobs=-1,algorithm='brute')\n",
        "grid_search_TFIDF=GridSearchCV(knn,param_grid=param_grid,cv=10,scoring='f1')\n",
        "grid_search_TFIDF.fit(Preprocessed_Text_tf_idf_vect.toarray(),Train_Data['Score'].values.reshape(-1,1))"
      ],
      "execution_count": 50,
      "outputs": [
        {
          "output_type": "execute_result",
          "data": {
            "text/plain": [
              "GridSearchCV(cv=10, error_score='raise-deprecating',\n",
              "             estimator=KNeighborsClassifier(algorithm='brute', leaf_size=30,\n",
              "                                            metric='minkowski',\n",
              "                                            metric_params=None, n_jobs=-1,\n",
              "                                            n_neighbors=5, p=2,\n",
              "                                            weights='uniform'),\n",
              "             iid='warn', n_jobs=None,\n",
              "             param_grid={'n_neighbors': [1, 2, 4, 5, 7, 10]},\n",
              "             pre_dispatch='2*n_jobs', refit=True, return_train_score=False,\n",
              "             scoring='f1', verbose=0)"
            ]
          },
          "metadata": {
            "tags": []
          },
          "execution_count": 50
        }
      ]
    },
    {
      "cell_type": "code",
      "metadata": {
        "id": "XnCj0CywjEO2",
        "colab_type": "code",
        "colab": {
          "base_uri": "https://localhost:8080/",
          "height": 187
        },
        "outputId": "11a7935e-4418-4e28-e93a-b45837f18a63"
      },
      "source": [
        "from sklearn.neighbors import KNeighborsClassifier\n",
        "from sklearn.model_selection import GridSearchCV\n",
        "param_grid={'n_neighbors':[1,2,4,5,7,10]}\n",
        "knn=KNeighborsClassifier(n_jobs=-1,algorithm='brute')\n",
        "grid_search_AVG_Word2Vec=GridSearchCV(knn,param_grid=param_grid,cv=10,scoring='f1')\n",
        "grid_search_AVG_Word2Vec.fit(Avg_Word2Vec_Vectors,Train_Data['Score'].values.reshape(-1,1))"
      ],
      "execution_count": 51,
      "outputs": [
        {
          "output_type": "execute_result",
          "data": {
            "text/plain": [
              "GridSearchCV(cv=10, error_score='raise-deprecating',\n",
              "             estimator=KNeighborsClassifier(algorithm='brute', leaf_size=30,\n",
              "                                            metric='minkowski',\n",
              "                                            metric_params=None, n_jobs=-1,\n",
              "                                            n_neighbors=5, p=2,\n",
              "                                            weights='uniform'),\n",
              "             iid='warn', n_jobs=None,\n",
              "             param_grid={'n_neighbors': [1, 2, 4, 5, 7, 10]},\n",
              "             pre_dispatch='2*n_jobs', refit=True, return_train_score=False,\n",
              "             scoring='f1', verbose=0)"
            ]
          },
          "metadata": {
            "tags": []
          },
          "execution_count": 51
        }
      ]
    },
    {
      "cell_type": "code",
      "metadata": {
        "id": "_F4HFci5jHT8",
        "colab_type": "code",
        "colab": {
          "base_uri": "https://localhost:8080/",
          "height": 187
        },
        "outputId": "de008470-944d-4be7-d061-e41cc9195423"
      },
      "source": [
        "from sklearn.neighbors import KNeighborsClassifier\n",
        "from sklearn.model_selection import GridSearchCV\n",
        "param_grid={'n_neighbors':[1,2,4,5,7,10]}\n",
        "knn=KNeighborsClassifier(n_jobs=-1,algorithm='brute')\n",
        "grid_search_TFIDF_Word2Vec=GridSearchCV(knn,param_grid=param_grid,cv=10,scoring='f1')\n",
        "grid_search_TFIDF_Word2Vec.fit(Tfidf_Word2Vec_Vectors,Train_Data['Score'].values.reshape(-1,1))"
      ],
      "execution_count": 52,
      "outputs": [
        {
          "output_type": "execute_result",
          "data": {
            "text/plain": [
              "GridSearchCV(cv=10, error_score='raise-deprecating',\n",
              "             estimator=KNeighborsClassifier(algorithm='brute', leaf_size=30,\n",
              "                                            metric='minkowski',\n",
              "                                            metric_params=None, n_jobs=-1,\n",
              "                                            n_neighbors=5, p=2,\n",
              "                                            weights='uniform'),\n",
              "             iid='warn', n_jobs=None,\n",
              "             param_grid={'n_neighbors': [1, 2, 4, 5, 7, 10]},\n",
              "             pre_dispatch='2*n_jobs', refit=True, return_train_score=False,\n",
              "             scoring='f1', verbose=0)"
            ]
          },
          "metadata": {
            "tags": []
          },
          "execution_count": 52
        }
      ]
    },
    {
      "cell_type": "code",
      "metadata": {
        "id": "bKdTn1HrmO2f",
        "colab_type": "code",
        "colab": {
          "base_uri": "https://localhost:8080/",
          "height": 102
        },
        "outputId": "2969e615-269a-4461-d303-10d730d8b124"
      },
      "source": [
        "print(\"Best Score In Count Vectorization\",grid_search_cv_count_vector.best_score_)\n",
        "print(\"Best Score In Count Vectorization NGRAM\",grid_search_cv_count_vector_ngram.best_score_)\n",
        "print(\"Best Score In TFIDF Vectorization\",grid_search_TFIDF.best_score_)\n",
        "print(\"Best Score In Avg Word2Vec Vectorization\",grid_search_AVG_Word2Vec.best_score_)\n",
        "print(\"Best Score In TFIDF Word2Vec Vectorization\",grid_search_TFIDF_Word2Vec.best_score_)"
      ],
      "execution_count": 53,
      "outputs": [
        {
          "output_type": "stream",
          "text": [
            "Best Score In Count Vectorization 0.912624218709225\n",
            "Best Score In Count Vectorization NGRAM 0.9120746053098483\n",
            "Best Score In TFIDF Vectorization 0.9120719686803427\n",
            "Best Score In Avg Word2Vec Vectorization 0.9037627680549076\n",
            "Best Score In TFIDF Word2Vec Vectorization 0.9032133134790855\n"
          ],
          "name": "stdout"
        }
      ]
    },
    {
      "cell_type": "code",
      "metadata": {
        "id": "ExE6mWR5mQn5",
        "colab_type": "code",
        "colab": {
          "base_uri": "https://localhost:8080/",
          "height": 102
        },
        "outputId": "4d187375-6da3-4ec7-ec48-739aa3714114"
      },
      "source": [
        "print(\"Best Score In Count Vectorization\",grid_search_cv_count_vector.best_params_)\n",
        "print(\"Best Parameters In Count Vectorization NGRAM\",grid_search_cv_count_vector_ngram.best_params_)\n",
        "print(\"Best Parameters In TFIDF Vectorization\",grid_search_TFIDF.best_params_)\n",
        "print(\"Best Parameters In Avg Word2Vec Vectorization\",grid_search_AVG_Word2Vec.best_params_)\n",
        "print(\"Best Parameters In TFIDF Word2Vec Vectorization\",grid_search_TFIDF_Word2Vec.best_params_)"
      ],
      "execution_count": 55,
      "outputs": [
        {
          "output_type": "stream",
          "text": [
            "Best Score In Count Vectorization {'n_neighbors': 10}\n",
            "Best Parameters In Count Vectorization NGRAM {'n_neighbors': 7}\n",
            "Best Parameters In TFIDF Vectorization {'n_neighbors': 7}\n",
            "Best Parameters In Avg Word2Vec Vectorization {'n_neighbors': 10}\n",
            "Best Parameters In TFIDF Word2Vec Vectorization {'n_neighbors': 10}\n"
          ],
          "name": "stdout"
        }
      ]
    },
    {
      "cell_type": "code",
      "metadata": {
        "id": "-l8H34x8mZSv",
        "colab_type": "code",
        "colab": {
          "base_uri": "https://localhost:8080/",
          "height": 34
        },
        "outputId": "450f6ec7-9c0a-441b-bef3-fbf6e1575b15"
      },
      "source": [
        "knn_cnt_vector=KNeighborsClassifier(n_jobs=-1,algorithm='brute',n_neighbors=10)\n",
        "knn_cnt_vector.fit(Preprocessed_Text_Count_Vector,Train_Data['Score'])\n",
        "Y_Pred=knn_cnt_vector.predict(Test_Preprocessed_Text_Count_Vector)\n",
        "from sklearn.metrics import f1_score\n",
        "print(f1_score(Test_Data['Score'],Y_Pred))"
      ],
      "execution_count": 60,
      "outputs": [
        {
          "output_type": "stream",
          "text": [
            "0.9165023011176857\n"
          ],
          "name": "stdout"
        }
      ]
    },
    {
      "cell_type": "code",
      "metadata": {
        "id": "2x3twcfWuQ6s",
        "colab_type": "code",
        "colab": {
          "base_uri": "https://localhost:8080/",
          "height": 34
        },
        "outputId": "2b84f49f-bfc1-4b9d-8d42-28391a98c6bb"
      },
      "source": [
        "knn_cnt_vector_ngram=KNeighborsClassifier(n_jobs=-1,algorithm='brute',n_neighbors=7)\n",
        "knn_cnt_vector_ngram.fit(Preprocessed_Text_Count_Vector_ngram,Train_Data['Score'])\n",
        "Y_Pred=knn_cnt_vector_ngram.predict(Test_Preprocessed_Text_Count_Vector_ngram)\n",
        "print(f1_score(Test_Data['Score'],Y_Pred))"
      ],
      "execution_count": 64,
      "outputs": [
        {
          "output_type": "stream",
          "text": [
            "0.9139218269653052\n"
          ],
          "name": "stdout"
        }
      ]
    },
    {
      "cell_type": "code",
      "metadata": {
        "id": "dXLDXXWCv2LO",
        "colab_type": "code",
        "colab": {
          "base_uri": "https://localhost:8080/",
          "height": 34
        },
        "outputId": "f3f12cb0-553a-4b4d-fae6-49c1655291e1"
      },
      "source": [
        "knn_tfidf=KNeighborsClassifier(n_jobs=-1,algorithm='brute',n_neighbors=7)\n",
        "knn_tfidf.fit(Preprocessed_Text_tf_idf_vect,Train_Data['Score'])\n",
        "Y_Pred=knn_tfidf.predict(Test_Preprocessed_Text_tf_idf_vect)\n",
        "print(f1_score(Test_Data['Score'],Y_Pred))"
      ],
      "execution_count": 65,
      "outputs": [
        {
          "output_type": "stream",
          "text": [
            "0.9153645833333334\n"
          ],
          "name": "stdout"
        }
      ]
    }
  ]
}